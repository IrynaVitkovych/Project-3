{
 "cells": [
  {
   "cell_type": "markdown",
   "metadata": {},
   "source": [
    "# PROJECT 3\n",
    "## Deliverable 1: Scrape Golden Globes movies from Golden Globe Award site"
   ]
  },
  {
   "cell_type": "code",
   "execution_count": 1,
   "metadata": {},
   "outputs": [],
   "source": [
    "# Import Splinter and BeautifulSoup\n",
    "import requests\n",
    "from bs4 import BeautifulSoup as soup\n",
    "import pandas as pd \n",
    "\n",
    "from splinter import Browser"
   ]
  },
  {
   "cell_type": "code",
   "execution_count": 2,
   "metadata": {},
   "outputs": [],
   "source": [
    "browser = Browser('chrome')"
   ]
  },
  {
   "cell_type": "markdown",
   "metadata": {},
   "source": [
    "### Step 1: Visit the Website\n",
    "\n",
    "1. Use automated browsing to visit the [Golden Globe Awards site](https://goldenglobes.com/). Inspect the page to identify which elements to scrape.\n",
    "\n",
    "      > **Hint** To identify which elements to scrape, you might want to inspect the page by using Chrome DevTools."
   ]
  },
  {
   "cell_type": "code",
   "execution_count": 3,
   "metadata": {},
   "outputs": [],
   "source": [
    "# Visit the Golden Globe Awards site (I. Vitkovych)\n",
    "goldenglobes_url = 'https://goldenglobes.com/awards-database/'\n",
    "browser.visit(goldenglobes_url)"
   ]
  },
  {
   "cell_type": "code",
   "execution_count": 4,
   "metadata": {},
   "outputs": [
    {
     "name": "stdout",
     "output_type": "stream",
     "text": [
      "\n",
      "<!doctype html>\n",
      "<html lang=\"en-US\">\n",
      "\n",
      "<head>\n",
      "\t<meta charset=\"UTF-8\">\n",
      "\t<meta name=\"viewport\" content=\"width=device-width, initial-scale=1\">\n",
      "\t<link rel=\"profile\" href=\"https://gmpg.org/xfn/11\">\n",
      "\t<meta name='robots' content='index, follow, max-image-pre\n"
     ]
    }
   ],
   "source": [
    "goldenglobes_resp = requests.get(goldenglobes_url) #get the content of the url from the request package. (I. Vitkovych)\n",
    "print(goldenglobes_resp.text[:250]) # look at the snapshot of the content"
   ]
  },
  {
   "cell_type": "markdown",
   "metadata": {},
   "source": [
    "### Step 2: Scrape the Website\n",
    "\n",
    "Create a Beautiful Soup object and use it to extract text elements from the website."
   ]
  },
  {
   "cell_type": "markdown",
   "metadata": {},
   "source": [
    "### Step 3: Store the Results\n",
    "\n",
    "Extract the titles, year and status text of the list of movies that you scraped. Store the scraping results in Python data structures as follows:\n",
    "\n",
    "* Store each title-year-status in a Python dictionary. And, give each dictionary three keys: `title`, `yera` and  `status`. An example is the following:\n",
    "\n",
    "  ```python\n",
    "  {'title': 'Last of Us, The', 'year': '2024', 'status': 'Nominee'},\n",
    " {'title': 'Taylor Swift: The Eras Tour', 'year': '2024', 'status': 'Nominee'},\n",
    " {'title': 'John Wick: Chapter 4', 'year': '2024', 'status': 'Nominee'},\n",
    " {'title': 'The Super Mario Bros. Movie', 'year': '2024', 'status': 'Nominee'},\n",
    "  ```\n",
    "\n",
    "* Store all the dictionaries in a Python list.\n",
    "\n",
    "* Print the list in your notebook."
   ]
  },
  {
   "cell_type": "markdown",
   "metadata": {},
   "source": [
    "***Before running the below cell of code, filter the \"All Filters\" dropdown to film***"
   ]
  },
  {
   "cell_type": "code",
   "execution_count": 5,
   "metadata": {},
   "outputs": [
    {
     "name": "stdout",
     "output_type": "stream",
     "text": [
      "                                            title  year   status  \\\n",
      "0                                      Succession  2024   Winner   \n",
      "1     Mission: Impossible - Dead Reckoning Part 1  2024  Nominee   \n",
      "2                                 Last of Us, The  2024  Nominee   \n",
      "3                     Taylor Swift: The Eras Tour  2024  Nominee   \n",
      "4                            John Wick: Chapter 4  2024  Nominee   \n",
      "...                                           ...   ...      ...   \n",
      "8685                                 Billy Wilder  1946   Winner   \n",
      "8686                              Angela Lansbury  1946   Winner   \n",
      "8687                             J. Carroll Naish  1946   Winner   \n",
      "8688                               Ingrid Bergman  1946   Winner   \n",
      "8689                          The House I Live In  1946   Winner   \n",
      "\n",
      "                                                  award  \n",
      "0                        Best Television Series - Drama  \n",
      "1                  Cinematic and Box Office Achievement  \n",
      "2                        Best Television Series - Drama  \n",
      "3                  Cinematic and Box Office Achievement  \n",
      "4                  Cinematic and Box Office Achievement  \n",
      "...                                                 ...  \n",
      "8685                     Best Director - Motion Picture  \n",
      "8686  Best Performance by an Actress in a Supporting...  \n",
      "8687  Best Performance by an Actor in a Supporting R...  \n",
      "8688                          Actress In A Leading Role  \n",
      "8689              Promoting International Understanding  \n",
      "\n",
      "[8690 rows x 4 columns]\n"
     ]
    }
   ],
   "source": [
    "# Create empty list to store data\n",
    "goldenglobes_data = []\n",
    "\n",
    "# Loop through the pages\n",
    "while True:\n",
    "    # Parse the HTML with Beautiful Soup\n",
    "    html = browser.html\n",
    "    goldenglobes_soup = soup(html, 'html.parser')\n",
    "    \n",
    "    # Extract all the text elements\n",
    "    text_elements = goldenglobes_soup.find_all('div', class_='c-award-database-item')\n",
    "    \n",
    "    # Loop through the text elements and extract data\n",
    "    for text_element in text_elements:\n",
    "        title = text_element.find('h4', class_='c-award-database-item__title u-type-h9').text\n",
    "        year = text_element.find('div', class_='c-award-database-item__year u-color-white-07').text\n",
    "        status = text_element.find('div', class_='c-award-database-item__status').text\n",
    "        award = text_element.find('div', class_='c-award-database-item__award').text\n",
    "        \n",
    "        # Store each item in a dictionary\n",
    "        movie_dict = {\n",
    "            'title': title,\n",
    "            'year': year,\n",
    "            'status': status,\n",
    "            'award': award\n",
    "        }\n",
    "        \n",
    "        # Add the dictionary to the list\n",
    "        goldenglobes_data.append(movie_dict)\n",
    "    \n",
    "    # Try to click the next page button, if not found, break the loop\n",
    "    try:\n",
    "        browser.find_by_xpath('//button[@aria-label=\"Go to Next Page\"]').click()\n",
    "    except:\n",
    "        break\n",
    "\n",
    "# Convert the list of dictionaries to a DataFrame\n",
    "df = pd.DataFrame(goldenglobes_data)\n",
    "\n",
    "# Display the DataFrame\n",
    "print(df) \n"
   ]
  },
  {
   "cell_type": "code",
   "execution_count": 6,
   "metadata": {},
   "outputs": [],
   "source": [
    "browser.quit() "
   ]
  },
  {
   "cell_type": "code",
   "execution_count": 7,
   "metadata": {},
   "outputs": [],
   "source": [
    "# Write the data to a CSV (I. Vitkovych)\n",
    "goldenglobes_df = pd.DataFrame(goldenglobes_data)\n",
    "goldenglobes_df.to_csv(\"goldenglobes.csv\", index=False)\n"
   ]
  }
 ],
 "metadata": {
  "kernelspec": {
   "display_name": "Python 3 (ipykernel)",
   "language": "python",
   "name": "python3"
  },
  "language_info": {
   "codemirror_mode": {
    "name": "ipython",
    "version": 3
   },
   "file_extension": ".py",
   "mimetype": "text/x-python",
   "name": "python",
   "nbconvert_exporter": "python",
   "pygments_lexer": "ipython3",
   "version": "3.10.13"
  },
  "vscode": {
   "interpreter": {
    "hash": "31f2aee4e71d21fbe5cf8b01ff0e069b9275f58929596ceb00d14d90e3e16cd6"
   }
  }
 },
 "nbformat": 4,
 "nbformat_minor": 4
}
