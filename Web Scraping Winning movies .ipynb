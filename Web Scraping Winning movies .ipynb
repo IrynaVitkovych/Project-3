{
 "cells": [
  {
   "cell_type": "markdown",
   "metadata": {},
   "source": [
    "# PROJECT 3\n",
    "## Deliverable 1: Scrape Golden Globes movies from Golden Globe Award site"
   ]
  },
  {
   "cell_type": "code",
   "execution_count": 10,
   "metadata": {},
   "outputs": [],
   "source": [
    "# Import Splinter and BeautifulSoup\n",
    "from urllib.request import urlopen as uReq\n",
    "import requests\n",
    "from bs4 import BeautifulSoup as soup\n",
    "import pandas as pd \n",
    "\n",
    "from splinter import Browser\n",
    "from selenium import webdriver"
   ]
  },
  {
   "cell_type": "code",
   "execution_count": 2,
   "metadata": {},
   "outputs": [],
   "source": [
    "browser = Browser('chrome')"
   ]
  },
  {
   "cell_type": "markdown",
   "metadata": {},
   "source": [
    "### Step 1: Visit the Website\n",
    "\n",
    "1. Use automated browsing to visit the [Golden Globe Awards site](https://goldenglobes.com/). Inspect the page to identify which elements to scrape.\n",
    "\n",
    "      > **Hint** To identify which elements to scrape, you might want to inspect the page by using Chrome DevTools."
   ]
  },
  {
   "cell_type": "code",
   "execution_count": 3,
   "metadata": {},
   "outputs": [],
   "source": [
    "# Visit the Golden Globe Awards site (I. Vitkovych)\n",
    "goldenglobes_url = 'https://goldenglobes.com/awards-database/'\n",
    "browser.visit(goldenglobes_url)"
   ]
  },
  {
   "cell_type": "code",
   "execution_count": 4,
   "metadata": {},
   "outputs": [
    {
     "name": "stdout",
     "output_type": "stream",
     "text": [
      "\n",
      "<!doctype html>\n",
      "<html lang=\"en-US\">\n",
      "\n",
      "<head>\n",
      "\t<meta charset=\"UTF-8\">\n",
      "\t<meta name=\"viewport\" content=\"width=device-width, initial-scale=1\">\n",
      "\t<link rel=\"profile\" href=\"https://gmpg.org/xfn/11\">\n",
      "\t<meta name='robots' content='index, follow, max-image-pre\n"
     ]
    }
   ],
   "source": [
    "goldenglobes_resp = requests.get(goldenglobes_url) #get the content of the url from the request package. (I. Vitkovych)\n",
    "print(goldenglobes_resp.text[:250]) # look at the snapshot of the content"
   ]
  },
  {
   "cell_type": "markdown",
   "metadata": {},
   "source": [
    "### Step 2: Scrape the Website\n",
    "\n",
    "Create a Beautiful Soup object and use it to extract text elements from the website."
   ]
  },
  {
   "cell_type": "code",
   "execution_count": 5,
   "metadata": {},
   "outputs": [],
   "source": [
    "# Create a Beautiful Soup object (I. Vitkovych)\n",
    "html = browser.html\n",
    "goldenglobes_soup = soup(html, 'html.parser')"
   ]
  },
  {
   "cell_type": "code",
   "execution_count": 13,
   "metadata": {},
   "outputs": [
    {
     "name": "stdout",
     "output_type": "stream",
     "text": [
      "page: 1 -----------------------\n",
      "Succession\n",
      "Mission: Impossible - Dead Reckoning Part 1\n",
      "Last of Us, The\n",
      "Taylor Swift: The Eras Tour\n",
      "John Wick: Chapter 4\n",
      "The Super Mario Bros. Movie\n",
      "Guardians of the Galaxy Vol. 3\n",
      "Spider-Man: Across the Spider-Verse\n",
      "Oppenheimer\n",
      "Barbie\n"
     ]
    },
    {
     "ename": "ElementClickInterceptedException",
     "evalue": "Message: element click intercepted: Element <button class=\"c-paging__link\" aria-label=\"Go to Next Page\">...</button> is not clickable at point (381, 629). Other element would receive the click: <div class=\"c-disclaimer js-privacy-compliance-banner\" style=\"display: block;\">...</div>\n  (Session info: chrome=123.0.6312.106)\nStacktrace:\n\tGetHandleVerifier [0x00007FF7BDF37072+63090]\n\t(No symbol) [0x00007FF7BDEA2CC2]\n\t(No symbol) [0x00007FF7BDD3EC65]\n\t(No symbol) [0x00007FF7BDD8BB34]\n\t(No symbol) [0x00007FF7BDD89954]\n\t(No symbol) [0x00007FF7BDD87164]\n\t(No symbol) [0x00007FF7BDD85EF9]\n\t(No symbol) [0x00007FF7BDD7A708]\n\t(No symbol) [0x00007FF7BDDA6FDA]\n\t(No symbol) [0x00007FF7BDD7A00A]\n\t(No symbol) [0x00007FF7BDDA71F0]\n\t(No symbol) [0x00007FF7BDDC3412]\n\t(No symbol) [0x00007FF7BDDA6D83]\n\t(No symbol) [0x00007FF7BDD783A8]\n\t(No symbol) [0x00007FF7BDD79441]\n\tGetHandleVerifier [0x00007FF7BE3325CD+4238285]\n\tGetHandleVerifier [0x00007FF7BE36F72D+4488493]\n\tGetHandleVerifier [0x00007FF7BE367A0F+4456463]\n\tGetHandleVerifier [0x00007FF7BE0105B6+953270]\n\t(No symbol) [0x00007FF7BDEAE58F]\n\t(No symbol) [0x00007FF7BDEA9264]\n\t(No symbol) [0x00007FF7BDEA939B]\n\t(No symbol) [0x00007FF7BDE99BD4]\n\tBaseThreadInitThunk [0x00007FFBBC7A257D+29]\n\tRtlUserThreadStart [0x00007FFBBCF6AA58+40]\n",
     "output_type": "error",
     "traceback": [
      "\u001b[1;31m---------------------------------------------------------------------------\u001b[0m",
      "\u001b[1;31mElementClickInterceptedException\u001b[0m          Traceback (most recent call last)",
      "Cell \u001b[1;32mIn[13], line 6\u001b[0m\n\u001b[0;32m      4\u001b[0m \u001b[38;5;28;01mfor\u001b[39;00m movie \u001b[38;5;129;01min\u001b[39;00m text_elements:\n\u001b[0;32m      5\u001b[0m     \u001b[38;5;28mprint\u001b[39m(movie\u001b[38;5;241m.\u001b[39mfind_all(\u001b[38;5;124m'\u001b[39m\u001b[38;5;124mh4\u001b[39m\u001b[38;5;124m'\u001b[39m, class_ \u001b[38;5;241m=\u001b[39m\u001b[38;5;124m'\u001b[39m\u001b[38;5;124mc-award-database-item__title u-type-h9\u001b[39m\u001b[38;5;124m'\u001b[39m)[\u001b[38;5;241m0\u001b[39m]\u001b[38;5;241m.\u001b[39mtext)\n\u001b[1;32m----> 6\u001b[0m \u001b[43mbrowser\u001b[49m\u001b[38;5;241;43m.\u001b[39;49m\u001b[43mfind_by_xpath\u001b[49m\u001b[43m(\u001b[49m\u001b[38;5;124;43m'\u001b[39;49m\u001b[38;5;124;43m//button[@aria-label=\u001b[39;49m\u001b[38;5;124;43m\"\u001b[39;49m\u001b[38;5;124;43mGo to Next Page\u001b[39;49m\u001b[38;5;124;43m\"\u001b[39;49m\u001b[38;5;124;43m]\u001b[39;49m\u001b[38;5;124;43m'\u001b[39;49m\u001b[43m)\u001b[49m\u001b[38;5;241;43m.\u001b[39;49m\u001b[43mclick\u001b[49m\u001b[43m(\u001b[49m\u001b[43m)\u001b[49m\n",
      "File \u001b[1;32mc:\\Users\\joshu\\anaconda3\\envs\\dev\\lib\\site-packages\\splinter\\driver\\webdriver\\__init__.py:803\u001b[0m, in \u001b[0;36mWebDriverElement.click\u001b[1;34m(self)\u001b[0m\n\u001b[0;32m    797\u001b[0m     \u001b[38;5;28;01mexcept\u001b[39;00m (\n\u001b[0;32m    798\u001b[0m         ElementClickInterceptedException,\n\u001b[0;32m    799\u001b[0m         WebDriverException,\n\u001b[0;32m    800\u001b[0m     ) \u001b[38;5;28;01mas\u001b[39;00m e:\n\u001b[0;32m    801\u001b[0m         error \u001b[38;5;241m=\u001b[39m e\n\u001b[1;32m--> 803\u001b[0m \u001b[38;5;28;01mraise\u001b[39;00m error\n",
      "File \u001b[1;32mc:\\Users\\joshu\\anaconda3\\envs\\dev\\lib\\site-packages\\splinter\\driver\\webdriver\\__init__.py:796\u001b[0m, in \u001b[0;36mWebDriverElement.click\u001b[1;34m(self)\u001b[0m\n\u001b[0;32m    794\u001b[0m \u001b[38;5;28;01mwhile\u001b[39;00m time\u001b[38;5;241m.\u001b[39mtime() \u001b[38;5;241m<\u001b[39m end_time:\n\u001b[0;32m    795\u001b[0m     \u001b[38;5;28;01mtry\u001b[39;00m:\n\u001b[1;32m--> 796\u001b[0m         \u001b[38;5;28;01mreturn\u001b[39;00m \u001b[38;5;28;43mself\u001b[39;49m\u001b[38;5;241;43m.\u001b[39;49m\u001b[43m_element\u001b[49m\u001b[38;5;241;43m.\u001b[39;49m\u001b[43mclick\u001b[49m\u001b[43m(\u001b[49m\u001b[43m)\u001b[49m\n\u001b[0;32m    797\u001b[0m     \u001b[38;5;28;01mexcept\u001b[39;00m (\n\u001b[0;32m    798\u001b[0m         ElementClickInterceptedException,\n\u001b[0;32m    799\u001b[0m         WebDriverException,\n\u001b[0;32m    800\u001b[0m     ) \u001b[38;5;28;01mas\u001b[39;00m e:\n\u001b[0;32m    801\u001b[0m         error \u001b[38;5;241m=\u001b[39m e\n",
      "File \u001b[1;32mc:\\Users\\joshu\\anaconda3\\envs\\dev\\lib\\site-packages\\selenium\\webdriver\\remote\\webelement.py:94\u001b[0m, in \u001b[0;36mWebElement.click\u001b[1;34m(self)\u001b[0m\n\u001b[0;32m     92\u001b[0m \u001b[38;5;28;01mdef\u001b[39;00m \u001b[38;5;21mclick\u001b[39m(\u001b[38;5;28mself\u001b[39m) \u001b[38;5;241m-\u001b[39m\u001b[38;5;241m>\u001b[39m \u001b[38;5;28;01mNone\u001b[39;00m:\n\u001b[0;32m     93\u001b[0m \u001b[38;5;250m    \u001b[39m\u001b[38;5;124;03m\"\"\"Clicks the element.\"\"\"\u001b[39;00m\n\u001b[1;32m---> 94\u001b[0m     \u001b[38;5;28;43mself\u001b[39;49m\u001b[38;5;241;43m.\u001b[39;49m\u001b[43m_execute\u001b[49m\u001b[43m(\u001b[49m\u001b[43mCommand\u001b[49m\u001b[38;5;241;43m.\u001b[39;49m\u001b[43mCLICK_ELEMENT\u001b[49m\u001b[43m)\u001b[49m\n",
      "File \u001b[1;32mc:\\Users\\joshu\\anaconda3\\envs\\dev\\lib\\site-packages\\selenium\\webdriver\\remote\\webelement.py:395\u001b[0m, in \u001b[0;36mWebElement._execute\u001b[1;34m(self, command, params)\u001b[0m\n\u001b[0;32m    393\u001b[0m     params \u001b[38;5;241m=\u001b[39m {}\n\u001b[0;32m    394\u001b[0m params[\u001b[38;5;124m\"\u001b[39m\u001b[38;5;124mid\u001b[39m\u001b[38;5;124m\"\u001b[39m] \u001b[38;5;241m=\u001b[39m \u001b[38;5;28mself\u001b[39m\u001b[38;5;241m.\u001b[39m_id\n\u001b[1;32m--> 395\u001b[0m \u001b[38;5;28;01mreturn\u001b[39;00m \u001b[38;5;28;43mself\u001b[39;49m\u001b[38;5;241;43m.\u001b[39;49m\u001b[43m_parent\u001b[49m\u001b[38;5;241;43m.\u001b[39;49m\u001b[43mexecute\u001b[49m\u001b[43m(\u001b[49m\u001b[43mcommand\u001b[49m\u001b[43m,\u001b[49m\u001b[43m \u001b[49m\u001b[43mparams\u001b[49m\u001b[43m)\u001b[49m\n",
      "File \u001b[1;32mc:\\Users\\joshu\\anaconda3\\envs\\dev\\lib\\site-packages\\selenium\\webdriver\\remote\\webdriver.py:347\u001b[0m, in \u001b[0;36mWebDriver.execute\u001b[1;34m(self, driver_command, params)\u001b[0m\n\u001b[0;32m    345\u001b[0m response \u001b[38;5;241m=\u001b[39m \u001b[38;5;28mself\u001b[39m\u001b[38;5;241m.\u001b[39mcommand_executor\u001b[38;5;241m.\u001b[39mexecute(driver_command, params)\n\u001b[0;32m    346\u001b[0m \u001b[38;5;28;01mif\u001b[39;00m response:\n\u001b[1;32m--> 347\u001b[0m     \u001b[38;5;28;43mself\u001b[39;49m\u001b[38;5;241;43m.\u001b[39;49m\u001b[43merror_handler\u001b[49m\u001b[38;5;241;43m.\u001b[39;49m\u001b[43mcheck_response\u001b[49m\u001b[43m(\u001b[49m\u001b[43mresponse\u001b[49m\u001b[43m)\u001b[49m\n\u001b[0;32m    348\u001b[0m     response[\u001b[38;5;124m\"\u001b[39m\u001b[38;5;124mvalue\u001b[39m\u001b[38;5;124m\"\u001b[39m] \u001b[38;5;241m=\u001b[39m \u001b[38;5;28mself\u001b[39m\u001b[38;5;241m.\u001b[39m_unwrap_value(response\u001b[38;5;241m.\u001b[39mget(\u001b[38;5;124m\"\u001b[39m\u001b[38;5;124mvalue\u001b[39m\u001b[38;5;124m\"\u001b[39m, \u001b[38;5;28;01mNone\u001b[39;00m))\n\u001b[0;32m    349\u001b[0m     \u001b[38;5;28;01mreturn\u001b[39;00m response\n",
      "File \u001b[1;32mc:\\Users\\joshu\\anaconda3\\envs\\dev\\lib\\site-packages\\selenium\\webdriver\\remote\\errorhandler.py:229\u001b[0m, in \u001b[0;36mErrorHandler.check_response\u001b[1;34m(self, response)\u001b[0m\n\u001b[0;32m    227\u001b[0m         alert_text \u001b[38;5;241m=\u001b[39m value[\u001b[38;5;124m\"\u001b[39m\u001b[38;5;124malert\u001b[39m\u001b[38;5;124m\"\u001b[39m]\u001b[38;5;241m.\u001b[39mget(\u001b[38;5;124m\"\u001b[39m\u001b[38;5;124mtext\u001b[39m\u001b[38;5;124m\"\u001b[39m)\n\u001b[0;32m    228\u001b[0m     \u001b[38;5;28;01mraise\u001b[39;00m exception_class(message, screen, stacktrace, alert_text)  \u001b[38;5;66;03m# type: ignore[call-arg]  # mypy is not smart enough here\u001b[39;00m\n\u001b[1;32m--> 229\u001b[0m \u001b[38;5;28;01mraise\u001b[39;00m exception_class(message, screen, stacktrace)\n",
      "\u001b[1;31mElementClickInterceptedException\u001b[0m: Message: element click intercepted: Element <button class=\"c-paging__link\" aria-label=\"Go to Next Page\">...</button> is not clickable at point (381, 629). Other element would receive the click: <div class=\"c-disclaimer js-privacy-compliance-banner\" style=\"display: block;\">...</div>\n  (Session info: chrome=123.0.6312.106)\nStacktrace:\n\tGetHandleVerifier [0x00007FF7BDF37072+63090]\n\t(No symbol) [0x00007FF7BDEA2CC2]\n\t(No symbol) [0x00007FF7BDD3EC65]\n\t(No symbol) [0x00007FF7BDD8BB34]\n\t(No symbol) [0x00007FF7BDD89954]\n\t(No symbol) [0x00007FF7BDD87164]\n\t(No symbol) [0x00007FF7BDD85EF9]\n\t(No symbol) [0x00007FF7BDD7A708]\n\t(No symbol) [0x00007FF7BDDA6FDA]\n\t(No symbol) [0x00007FF7BDD7A00A]\n\t(No symbol) [0x00007FF7BDDA71F0]\n\t(No symbol) [0x00007FF7BDDC3412]\n\t(No symbol) [0x00007FF7BDDA6D83]\n\t(No symbol) [0x00007FF7BDD783A8]\n\t(No symbol) [0x00007FF7BDD79441]\n\tGetHandleVerifier [0x00007FF7BE3325CD+4238285]\n\tGetHandleVerifier [0x00007FF7BE36F72D+4488493]\n\tGetHandleVerifier [0x00007FF7BE367A0F+4456463]\n\tGetHandleVerifier [0x00007FF7BE0105B6+953270]\n\t(No symbol) [0x00007FF7BDEAE58F]\n\t(No symbol) [0x00007FF7BDEA9264]\n\t(No symbol) [0x00007FF7BDEA939B]\n\t(No symbol) [0x00007FF7BDE99BD4]\n\tBaseThreadInitThunk [0x00007FFBBC7A257D+29]\n\tRtlUserThreadStart [0x00007FFBBCF6AA58+40]\n"
     ]
    }
   ],
   "source": [
    "for x in range(1,5):\n",
    "    text_elements = goldenglobes_soup.find_all('div', class_ ='c-award-database-item')\n",
    "    print('page:',x,'-----------------------')\n",
    "    for movie in text_elements:\n",
    "        print(movie.find_all('h4', class_ ='c-award-database-item__title u-type-h9')[0].text)\n",
    "    browser.find_by_xpath('//button[@aria-label=\"Go to Next Page\"]').click()"
   ]
  },
  {
   "cell_type": "code",
   "execution_count": null,
   "metadata": {},
   "outputs": [],
   "source": [
    "# Extract all the text elements (I. Vitkovych)\n",
    "text_elements = goldenglobes_soup.find_all('div', class_ ='c-award-database-item')\n",
    "text_elements"
   ]
  },
  {
   "cell_type": "markdown",
   "metadata": {},
   "source": [
    "### Step 3: Store the Results\n",
    "\n",
    "Extract the titles, year and status text of the list of movies that you scraped. Store the scraping results in Python data structures as follows:\n",
    "\n",
    "* Store each title-year-status in a Python dictionary. And, give each dictionary three keys: `title`, `yera` and  `status`. An example is the following:\n",
    "\n",
    "  ```python\n",
    "  {'title': 'Last of Us, The', 'year': '2024', 'status': 'Nominee'},\n",
    " {'title': 'Taylor Swift: The Eras Tour', 'year': '2024', 'status': 'Nominee'},\n",
    " {'title': 'John Wick: Chapter 4', 'year': '2024', 'status': 'Nominee'},\n",
    " {'title': 'The Super Mario Bros. Movie', 'year': '2024', 'status': 'Nominee'},\n",
    "  ```\n",
    "\n",
    "* Store all the dictionaries in a Python list.\n",
    "\n",
    "* Print the list in your notebook."
   ]
  },
  {
   "cell_type": "code",
   "execution_count": 7,
   "metadata": {},
   "outputs": [],
   "source": [
    "# Create an empty list to store the dictionaries (I.Vitkovych)\n",
    "goldenglobes_data = []"
   ]
  },
  {
   "cell_type": "code",
   "execution_count": 8,
   "metadata": {},
   "outputs": [],
   "source": [
    "# Loop through the text elements\n",
    "# Extract the title, year and status text from the elements\n",
    "# Store each title and preview pair in a dictionary\n",
    "# Add the dictionary to the list\n",
    "for text_element in text_elements:\n",
    "    title = text_element.find_all('h4', class_ ='c-award-database-item__title u-type-h9')[0].text\n",
    "    year = text_element.find_all('div', class_ = 'c-award-database-item__year u-color-white-07')[0].text\n",
    "    status = text_element.find_all('div', class_ = 'c-award-database-item__status')[0].text\n",
    "    award = text_element.find_all('div', class_ = 'c-award-database-item__award')[0].text\n",
    "\n",
    "# Store each title and preview pair in a dictionary\n",
    "    movie_dict = {'title': title, 'year': year, 'status': status, 'award': award}\n",
    "\n",
    "# Add the dictionary to the list\n",
    "    goldenglobes_data.append(movie_dict)\n"
   ]
  },
  {
   "cell_type": "code",
   "execution_count": 10,
   "metadata": {},
   "outputs": [],
   "source": [
    "# Loop for clicking on the next page until there are no more pages left (I.Vitkovych) THIS CODE NOT WORKING YET\n",
    "while True:\n",
    "    try:\n",
    "        # Find and click on the next page button\n",
    "        next_button = browser.find_by_xpath('//*[@id=\"award-database\"]/div/div[2]/div/div[2]/nav/ul/li[7]/button')\n",
    "        browser.execute_script(\"arguments[0].scrollIntoView(true);\", next_button._element)\n",
    "        browser.execute_script(\"arguments[0].click();\", next_button._element)\n",
    "        \n",
    "        # Wait for the next page to load completely\n",
    "        WebDriverWait(browser.driver, 10).until(EC.presence_of_element_located((By.CLASS_NAME, 'c-award-database-item')))\n",
    "        \n",
    "        # Extract data from the new page\n",
    "        # Loop through the text elements, extract data, and append to goldenglobes_data\n",
    "        \n",
    "    except:\n",
    "        # No more next page button found, break the loop\n",
    "        break\n"
   ]
  },
  {
   "cell_type": "code",
   "execution_count": 11,
   "metadata": {},
   "outputs": [
    {
     "data": {
      "text/plain": [
       "[{'title': 'Succession',\n",
       "  'year': '2024',\n",
       "  'status': 'Winner',\n",
       "  'award': 'Best Television Series - Drama'},\n",
       " {'title': 'Mission: Impossible - Dead Reckoning Part 1',\n",
       "  'year': '2024',\n",
       "  'status': 'Nominee',\n",
       "  'award': 'Cinematic and Box Office Achievement'},\n",
       " {'title': 'Last of Us, The',\n",
       "  'year': '2024',\n",
       "  'status': 'Nominee',\n",
       "  'award': 'Best Television Series - Drama'},\n",
       " {'title': 'Taylor Swift: The Eras Tour',\n",
       "  'year': '2024',\n",
       "  'status': 'Nominee',\n",
       "  'award': 'Cinematic and Box Office Achievement'},\n",
       " {'title': 'John Wick: Chapter 4',\n",
       "  'year': '2024',\n",
       "  'status': 'Nominee',\n",
       "  'award': 'Cinematic and Box Office Achievement'},\n",
       " {'title': 'The Super Mario Bros. Movie',\n",
       "  'year': '2024',\n",
       "  'status': 'Nominee',\n",
       "  'award': 'Cinematic and Box Office Achievement'},\n",
       " {'title': 'Guardians of the Galaxy Vol. 3',\n",
       "  'year': '2024',\n",
       "  'status': 'Nominee',\n",
       "  'award': 'Cinematic and Box Office Achievement'},\n",
       " {'title': 'Spider-Man: Across the Spider-Verse',\n",
       "  'year': '2024',\n",
       "  'status': 'Nominee',\n",
       "  'award': 'Cinematic and Box Office Achievement'},\n",
       " {'title': 'Oppenheimer',\n",
       "  'year': '2024',\n",
       "  'status': 'Nominee',\n",
       "  'award': 'Cinematic and Box Office Achievement'},\n",
       " {'title': 'Barbie',\n",
       "  'year': '2024',\n",
       "  'status': 'Winner',\n",
       "  'award': 'Cinematic and Box Office Achievement'}]"
      ]
     },
     "execution_count": 11,
     "metadata": {},
     "output_type": "execute_result"
    }
   ],
   "source": [
    "# Print the list to confirm success (I. Vitkovych)\n",
    "goldenglobes_data"
   ]
  },
  {
   "cell_type": "code",
   "execution_count": 11,
   "metadata": {},
   "outputs": [],
   "source": [
    "\n",
    "browser.quit() "
   ]
  },
  {
   "cell_type": "code",
   "execution_count": 12,
   "metadata": {},
   "outputs": [],
   "source": [
    "# Write the data to a CSV (I. Vitkovych)\n",
    "goldenglobes_df = pd.DataFrame(goldenglobes_data)\n",
    "goldenglobes_df.to_csv(\"goldenglobes.csv\", index=False)\n"
   ]
  }
 ],
 "metadata": {
  "kernelspec": {
   "display_name": "Python 3 (ipykernel)",
   "language": "python",
   "name": "python3"
  },
  "language_info": {
   "codemirror_mode": {
    "name": "ipython",
    "version": 3
   },
   "file_extension": ".py",
   "mimetype": "text/x-python",
   "name": "python",
   "nbconvert_exporter": "python",
   "pygments_lexer": "ipython3",
   "version": "3.10.13"
  },
  "vscode": {
   "interpreter": {
    "hash": "31f2aee4e71d21fbe5cf8b01ff0e069b9275f58929596ceb00d14d90e3e16cd6"
   }
  }
 },
 "nbformat": 4,
 "nbformat_minor": 4
}
